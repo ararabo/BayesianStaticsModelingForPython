{
 "cells": [
  {
   "cell_type": "code",
   "execution_count": 1,
   "metadata": {},
   "outputs": [],
   "source": [
    "import numpy as np\n",
    "import pandas as pd\n",
    "from matplotlib import pyplot as plt\n",
    "%matplotlib inline\n",
    "import seaborn as sns\n",
    "from scipy import stats"
   ]
  },
  {
   "cell_type": "code",
   "execution_count": 5,
   "metadata": {},
   "outputs": [],
   "source": [
    "file_beer_sales_1=pd.read_csv('./data/2-4-1-beer-sales-1.csv')"
   ]
  },
  {
   "cell_type": "code",
   "execution_count": 6,
   "metadata": {},
   "outputs": [
    {
     "data": {
      "text/html": [
       "<div>\n",
       "<style scoped>\n",
       "    .dataframe tbody tr th:only-of-type {\n",
       "        vertical-align: middle;\n",
       "    }\n",
       "\n",
       "    .dataframe tbody tr th {\n",
       "        vertical-align: top;\n",
       "    }\n",
       "\n",
       "    .dataframe thead th {\n",
       "        text-align: right;\n",
       "    }\n",
       "</style>\n",
       "<table border=\"1\" class=\"dataframe\">\n",
       "  <thead>\n",
       "    <tr style=\"text-align: right;\">\n",
       "      <th></th>\n",
       "      <th>sales</th>\n",
       "    </tr>\n",
       "  </thead>\n",
       "  <tbody>\n",
       "    <tr>\n",
       "      <th>0</th>\n",
       "      <td>87.47</td>\n",
       "    </tr>\n",
       "    <tr>\n",
       "      <th>1</th>\n",
       "      <td>103.67</td>\n",
       "    </tr>\n",
       "    <tr>\n",
       "      <th>2</th>\n",
       "      <td>83.29</td>\n",
       "    </tr>\n",
       "  </tbody>\n",
       "</table>\n",
       "</div>"
      ],
      "text/plain": [
       "    sales\n",
       "0   87.47\n",
       "1  103.67\n",
       "2   83.29"
      ]
     },
     "execution_count": 6,
     "metadata": {},
     "output_type": "execute_result"
    }
   ],
   "source": [
    "file_beer_sales_1.head(3)"
   ]
  },
  {
   "cell_type": "code",
   "execution_count": 7,
   "metadata": {},
   "outputs": [
    {
     "name": "stdout",
     "output_type": "stream",
     "text": [
      "100\n"
     ]
    }
   ],
   "source": [
    "# サンプルサイズ\n",
    "print(len(file_beer_sales_1))"
   ]
  },
  {
   "cell_type": "code",
   "execution_count": 10,
   "metadata": {},
   "outputs": [
    {
     "name": "stdout",
     "output_type": "stream",
     "text": [
      "[87.47, 103.67, 83.29, 131.91, 106.59, 83.59, 109.75, 114.77, 111.52, 93.89, 130.24, 107.8, 87.58, 55.71, 122.5, 99.1, 99.68, 118.88, 116.42, 111.88, 118.38, 115.64, 101.49, 60.21, 112.4, 98.88, 96.88, 70.58, 90.44, 108.36, 127.17, 97.94, 107.75, 98.92, 72.46, 91.7, 92.11, 98.81, 122.0, 115.26, 96.71, 94.93, 113.94, 111.13, 86.22, 85.85, 107.29, 115.37, 97.75, 117.62, 107.96, 87.76, 106.82, 77.41, 128.66, 139.61, 92.66, 79.12, 111.39, 97.3, 148.03, 99.22, 113.79, 100.56, 85.13, 103.78, 63.9, 129.31, 103.07, 143.45, 109.51, 85.8, 112.21, 81.32, 74.93, 105.83, 91.13, 100.02, 101.49, 88.21, 88.63, 97.3, 123.56, 69.53, 111.88, 106.66, 121.26, 93.92, 107.4, 105.34, 89.15, 124.16, 123.21, 114.0, 131.74, 111.17, 74.47, 88.53, 75.51, 90.53]\n"
     ]
    }
   ],
   "source": [
    "# listにまとめる\n",
    "data_list=file_beer_sales_1['sales'].values.tolist()\n",
    "print(data_list)"
   ]
  },
  {
   "cell_type": "code",
   "execution_count": null,
   "metadata": {},
   "outputs": [],
   "source": []
  }
 ],
 "metadata": {
  "kernelspec": {
   "display_name": "Python 3",
   "language": "python",
   "name": "python3"
  },
  "language_info": {
   "codemirror_mode": {
    "name": "ipython",
    "version": 3
   },
   "file_extension": ".py",
   "mimetype": "text/x-python",
   "name": "python",
   "nbconvert_exporter": "python",
   "pygments_lexer": "ipython3",
   "version": "3.6.4"
  }
 },
 "nbformat": 4,
 "nbformat_minor": 2
}
